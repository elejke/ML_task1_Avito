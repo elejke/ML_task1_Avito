{
 "cells": [
  {
   "cell_type": "code",
   "execution_count": 1,
   "metadata": {
    "collapsed": false
   },
   "outputs": [],
   "source": [
    "from sklearn.feature_extraction.text import CountVectorizer, TfidfVectorizer\n",
    "from sklearn.svm import LinearSVC\n",
    "from sklearn.linear_model import LogisticRegression\n",
    "from sklearn.cross_validation import train_test_split\n",
    "from sklearn.metrics import accuracy_score\n",
    "from stop_words import get_stop_words\n",
    "import xgboost as xgb\n",
    "\n",
    "import pandas as pd\n",
    "import numpy as np"
   ]
  },
  {
   "cell_type": "code",
   "execution_count": 2,
   "metadata": {
    "collapsed": false
   },
   "outputs": [],
   "source": [
    "russian_stop_words = get_stop_words('russian')"
   ]
  },
  {
   "cell_type": "code",
   "execution_count": 3,
   "metadata": {
    "collapsed": false
   },
   "outputs": [],
   "source": [
    "#data reading and spliting on test and train\n",
    "data = pd.read_csv('data/text_BoW_task.csv', encoding='utf-8')\n",
    "\n",
    "\n",
    "X_train, X_test, y_train, y_test = train_test_split(data['text_stem'],\n",
    "                                                    data['is_blocked'],\n",
    "                                                    test_size=0.10,\n",
    "                                                    random_state=41)\n",
    "\n",
    "X_train = X_train.astype(unicode);X_test = X_test.astype(unicode)"
   ]
  },
  {
   "cell_type": "code",
   "execution_count": 4,
   "metadata": {
    "collapsed": false
   },
   "outputs": [],
   "source": [
    "#creating the bag of word:\n",
    "vectorizer = CountVectorizer(ngram_range=(1,3))#stop_words=russian_stop_words)\n",
    "train_data_features = vectorizer.fit_transform(X_train)\n",
    "test_data_features = vectorizer.transform(X_test)"
   ]
  },
  {
   "cell_type": "code",
   "execution_count": 5,
   "metadata": {
    "collapsed": false
   },
   "outputs": [],
   "source": [
    "#creating the bag of word with TF-IDF:\n",
    "vectorizer_Tfidf = TfidfVectorizer(ngram_range=(1,3))#,stop_words=russian_stop_words)\n",
    "train_data_features_tfidf = vectorizer_Tfidf.fit_transform(X_train)\n",
    "test_data_features_tfidf = vectorizer_Tfidf.transform(X_test)"
   ]
  },
  {
   "cell_type": "code",
   "execution_count": null,
   "metadata": {
    "collapsed": false
   },
   "outputs": [],
   "source": [
    "import xgboost as xgb\n",
    "\n",
    "sum(train_data_features)"
   ]
  },
  {
   "cell_type": "code",
   "execution_count": 7,
   "metadata": {
    "collapsed": false
   },
   "outputs": [],
   "source": [
    "dtrain = xgb.DMatrix(train_data_features,label=y_train)\n",
    "dtest = xgb.DMatrix(test_data_features,label=y_test)"
   ]
  },
  {
   "cell_type": "code",
   "execution_count": 8,
   "metadata": {
    "collapsed": false
   },
   "outputs": [],
   "source": [
    "dtrain_tfidf = xgb.DMatrix(train_data_features_tfidf,label=y_train)\n",
    "dtest_tfidf = xgb.DMatrix(test_data_features_tfidf,label=y_test)"
   ]
  },
  {
   "cell_type": "code",
   "execution_count": 10,
   "metadata": {
    "collapsed": false
   },
   "outputs": [
    {
     "name": "stderr",
     "output_type": "stream",
     "text": [
      "[0]\teval-error:0.088856\ttrain-error:0.007447\n",
      "[1]\teval-error:0.074047\ttrain-error:0.007406\n",
      "[2]\teval-error:0.068123\ttrain-error:0.007406\n",
      "[3]\teval-error:0.063680\ttrain-error:0.007406\n",
      "[4]\teval-error:0.059608\ttrain-error:0.007406\n",
      "[5]\teval-error:0.057016\ttrain-error:0.007406\n",
      "[6]\teval-error:0.054424\ttrain-error:0.007406\n",
      "[7]\teval-error:0.054795\ttrain-error:0.007406\n",
      "[8]\teval-error:0.054795\ttrain-error:0.007406\n"
     ]
    },
    {
     "name": "stdout",
     "output_type": "stream",
     "text": [
      "error=0.054795\n"
     ]
    }
   ],
   "source": [
    "#no tfidf\n",
    "param = {'silent':0, 'objective':'binary:logistic', 'booster':'gblinear',\n",
    "         'alpha' : 0.1, 'lambda': 0.1, 'eta' : 0.25, 'lambda_bias' : 100}\n",
    "\n",
    "watchlist  = [(dtest,'eval'), (dtrain,'train')]\n",
    "num_round = 9\n",
    "bst = xgb.train(param, dtrain, num_round, watchlist)\n",
    "preds = bst.predict(dtest)\n",
    "labels = dtest.get_label()\n",
    "print ('error=%f' % ( sum(1 for i in range(len(preds)) if int(preds[i]>0.5)!=labels[i]) /float(len(preds))))"
   ]
  },
  {
   "cell_type": "code",
   "execution_count": 211,
   "metadata": {
    "collapsed": false
   },
   "outputs": [
    {
     "name": "stderr",
     "output_type": "stream",
     "text": [
      "[0]\teval-error:0.092558\ttrain-error:0.007406\n",
      "[1]\teval-error:0.081822\ttrain-error:0.007406\n",
      "[2]\teval-error:0.071455\ttrain-error:0.007406\n",
      "[3]\teval-error:0.065902\ttrain-error:0.007406\n",
      "[4]\teval-error:0.060718\ttrain-error:0.007406\n",
      "[5]\teval-error:0.058497\ttrain-error:0.007406\n",
      "[6]\teval-error:0.055905\ttrain-error:0.007406\n",
      "[7]\teval-error:0.055535\ttrain-error:0.007406\n",
      "[8]\teval-error:0.054054\ttrain-error:0.007406\n",
      "[9]\teval-error:0.052203\ttrain-error:0.007406\n",
      "[10]\teval-error:0.050352\ttrain-error:0.007406\n",
      "[11]\teval-error:0.049981\ttrain-error:0.007406\n"
     ]
    },
    {
     "name": "stdout",
     "output_type": "stream",
     "text": [
      "error=0.049981\n"
     ]
    }
   ],
   "source": [
    "param = {'silent':0, 'objective':'binary:logistic', 'booster':'gblinear',\n",
    "         'alpha' : 0.01, 'lambda': 0.001, 'eta' : 0.25, 'lambda_bias' : 100}\n",
    "\n",
    "watchlist  = [(dtest_tfidf,'eval'), (dtrain_tfidf,'train')]\n",
    "num_round = 12\n",
    "bst = xgb.train(param, dtrain_tfidf, num_round, watchlist)\n",
    "preds_tfidf = bst.predict(dtest_tfidf)\n",
    "labels = dtest_tfidf.get_label()\n",
    "print ('error=%f' % ( sum(1 for i in range(len(preds_tfidf)) if int(preds_tfidf[i]>0.5)!=labels[i]) /float(len(preds_tfidf))))"
   ]
  },
  {
   "cell_type": "code",
   "execution_count": 170,
   "metadata": {
    "collapsed": false
   },
   "outputs": [],
   "source": [
    "#LogisticRegression training on vectorised features\n",
    "clf1 = LogisticRegression()\n",
    "clf1.fit(train_data_features, y_train)\n",
    "y_pred_1 = clf1.predict(test_data_features)"
   ]
  },
  {
   "cell_type": "code",
   "execution_count": 171,
   "metadata": {
    "collapsed": false
   },
   "outputs": [
    {
     "name": "stdout",
     "output_type": "stream",
     "text": [
      "0.93817104776\n"
     ]
    }
   ],
   "source": [
    "LogRegression_auc = accuracy_score(y_test, y_pred_1)\n",
    "LogRegression_accuracy = accuracy_score(y_test, y_pred_1)\n",
    "print LogRegression_accuracy"
   ]
  },
  {
   "cell_type": "code",
   "execution_count": 172,
   "metadata": {
    "collapsed": false
   },
   "outputs": [
    {
     "name": "stdout",
     "output_type": "stream",
     "text": [
      "xgboost : 0.945945945946\n",
      "logreg : 0.93817104776\n",
      "xgb-tfidf : 0.950018511662\n"
     ]
    }
   ],
   "source": [
    "print \"xgboost : \" + str(accuracy_score(y_test, preds > 0.5))\n",
    "print \"logreg : \" + str(LogRegression_accuracy)\n",
    "print \"xgb-tfidf : \" + str(accuracy_score(y_test, preds_tfidf > 0.5))"
   ]
  },
  {
   "cell_type": "code",
   "execution_count": 242,
   "metadata": {
    "collapsed": true
   },
   "outputs": [],
   "source": [
    "#SVM training on vectorised features\n",
    "clf2 = LinearSVC()\n",
    "clf2.fit(train_data_features, y_train)\n",
    "y_pred_2 = clf2.predict(test_data_features)"
   ]
  },
  {
   "cell_type": "code",
   "execution_count": 243,
   "metadata": {
    "collapsed": false
   },
   "outputs": [],
   "source": [
    "SVM_auc = accuracy_score(y_test, y_pred_2)"
   ]
  },
  {
   "cell_type": "code",
   "execution_count": 244,
   "metadata": {
    "collapsed": false
   },
   "outputs": [],
   "source": [
    "#creating the bag of word with TF-IDF:\n",
    "vectorizer_Tfidf = TfidfVectorizer()\n",
    "train_data_features_tfidf = vectorizer_Tfidf.fit_transform(X_train)\n",
    "test_data_features_tfidf = vectorizer_Tfidf.transform(X_test)"
   ]
  },
  {
   "cell_type": "code",
   "execution_count": 245,
   "metadata": {
    "collapsed": true
   },
   "outputs": [],
   "source": [
    "#LogisticRegression training on vectorised features with TF-IDF transform\n",
    "clf1_tfidf = LogisticRegression()\n",
    "clf1_tfidf.fit(train_data_features_tfidf, y_train)\n",
    "y_pred_1_tfidf = clf1_tfidf.predict(test_data_features_tfidf)"
   ]
  },
  {
   "cell_type": "code",
   "execution_count": 246,
   "metadata": {
    "collapsed": false
   },
   "outputs": [],
   "source": [
    "LogRegression_tfidf_auc = accuracy_score(y_test, y_pred_1_tfidf)"
   ]
  },
  {
   "cell_type": "code",
   "execution_count": 23,
   "metadata": {
    "collapsed": true
   },
   "outputs": [],
   "source": [
    "#SVM training on vectorised features with TF-IDF transform\n",
    "clf2_tfidf = LinearSVC()\n",
    "clf2_tfidf.fit(train_data_features_tfidf, y_train)\n",
    "y_pred_2_tfidf = clf2.predict(test_data_features_tfidf)"
   ]
  },
  {
   "cell_type": "code",
   "execution_count": 24,
   "metadata": {
    "collapsed": false
   },
   "outputs": [],
   "source": [
    "SVM_tfidf_auc = accuracy_score(y_test, y_pred_2_tfidf)"
   ]
  },
  {
   "cell_type": "code",
   "execution_count": 25,
   "metadata": {
    "collapsed": false
   },
   "outputs": [
    {
     "name": "stdout",
     "output_type": "stream",
     "text": [
      "LogRegression_auc:  0.935024065161\n",
      "SVM_auc:  0.92484265087\n",
      "LogRegression_tfidf_auc:  0.930025916327\n",
      "SVM_tfidf_auc:  0.91577193632\n"
     ]
    }
   ],
   "source": [
    "print 'LogRegression_auc: ', LogRegression_auc\n",
    "print 'SVM_auc: ', SVM_auc\n",
    "print 'LogRegression_tfidf_auc: ', LogRegression_tfidf_auc\n",
    "print 'SVM_tfidf_auc: ', SVM_tfidf_auc"
   ]
  },
  {
   "cell_type": "code",
   "execution_count": null,
   "metadata": {
    "collapsed": true
   },
   "outputs": [],
   "source": []
  }
 ],
 "metadata": {
  "kernelspec": {
   "display_name": "Python 2",
   "language": "python",
   "name": "python2"
  },
  "language_info": {
   "codemirror_mode": {
    "name": "ipython",
    "version": 2
   },
   "file_extension": ".py",
   "mimetype": "text/x-python",
   "name": "python",
   "nbconvert_exporter": "python",
   "pygments_lexer": "ipython2",
   "version": "2.7.10"
  }
 },
 "nbformat": 4,
 "nbformat_minor": 0
}
