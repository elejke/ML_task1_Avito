{
 "cells": [
  {
   "cell_type": "code",
   "execution_count": 1,
   "metadata": {
    "collapsed": true
   },
   "outputs": [],
   "source": [
    "import pandas as pd\n",
    "import numpy as np\n",
    "\n",
    "from sklearn.ensemble import RandomForestClassifier\n",
    "from sklearn.decomposition import PCA\n",
    "from sklearn.utils import shuffle\n",
    "from sklearn.cross_validation import train_test_split\n",
    "from sklearn.metrics import accuracy_score"
   ]
  },
  {
   "cell_type": "code",
   "execution_count": 2,
   "metadata": {
    "collapsed": true
   },
   "outputs": [],
   "source": [
    "#loading, shuffling, spliting data:\n",
    "big_train = pd.read_csv('./data/train.csv')\n",
    "\n",
    "test = pd.read_csv('./data/test.csv')\n",
    "\n",
    "big_train = shuffle(big_train)\n",
    "\n",
    "train = big_train[:5000]\n",
    "\n",
    "X_train, X_test, y_train, y_test = train_test_split(train.drop('label',axis=1),\n",
    "                                                    train['label'],\n",
    "                                                    test_size=0.20, \n",
    "                                                    random_state=42)\n",
    "\n",
    "X_train_all, y_train_all = train.drop('label',axis=1), train['label']\n",
    "\n",
    "X_test_all = test"
   ]
  },
  {
   "cell_type": "code",
   "execution_count": 3,
   "metadata": {
    "collapsed": true
   },
   "outputs": [],
   "source": [
    "#PCA\n",
    "pca_transformer = PCA(n_components=int(0.85*28*25))\n",
    "X_train_pca = pca_transformer.fit_transform(X_train)\n",
    "X_test_pca = pca_transformer.transform(X_test)"
   ]
  },
  {
   "cell_type": "code",
   "execution_count": 4,
   "metadata": {
    "collapsed": false
   },
   "outputs": [
    {
     "data": {
      "text/plain": [
       "0.82699999999999996"
      ]
     },
     "execution_count": 4,
     "metadata": {},
     "output_type": "execute_result"
    }
   ],
   "source": [
    "#RF testing on 5000 without PCA\n",
    "rf = RandomForestClassifier(n_estimators=500,max_depth=4)\n",
    "\n",
    "rf.fit(X_train,y_train)\n",
    "\n",
    "y_pred_rf = rf.predict(X_test)\n",
    "accuracy_score(y_test,y_pred_rf)"
   ]
  },
  {
   "cell_type": "code",
   "execution_count": 5,
   "metadata": {
    "collapsed": false
   },
   "outputs": [
    {
     "data": {
      "text/plain": [
       "0.86199999999999999"
      ]
     },
     "execution_count": 5,
     "metadata": {},
     "output_type": "execute_result"
    }
   ],
   "source": [
    "#RF testing on 5000 with PCA\n",
    "rf_pca = RandomForestClassifier(n_estimators=500,n_jobs=4)\n",
    "\n",
    "rf_pca.fit(X_train_pca,y_train)\n",
    "\n",
    "y_pred_rf_pca = rf_pca.predict(X_test_pca)\n",
    "accuracy_score(y_test,y_pred_rf_pca)"
   ]
  },
  {
   "cell_type": "code",
   "execution_count": 17,
   "metadata": {
    "collapsed": false
   },
   "outputs": [],
   "source": [
    "big_X_train, big_X_test, big_y_train, big_y_test = train_test_split(big_train.drop('label',axis=1),\n",
    "                                                    big_train['label'],\n",
    "                                                    test_size=0.20, \n",
    "                                                    random_state=42)"
   ]
  },
  {
   "cell_type": "code",
   "execution_count": 18,
   "metadata": {
    "collapsed": false
   },
   "outputs": [
    {
     "data": {
      "text/plain": [
       "0.96821428571428569"
      ]
     },
     "execution_count": 18,
     "metadata": {},
     "output_type": "execute_result"
    }
   ],
   "source": [
    "#RF on full data with 0.8/0.2 train/test parts\n",
    "rf = RandomForestClassifier(n_estimators=500,n_jobs=4)\n",
    "\n",
    "rf.fit(big_X_train,big_y_train)\n",
    "\n",
    "big_y_pred_rf = rf.predict(big_X_test)\n",
    "accuracy_score(big_y_test,big_y_pred_rf)"
   ]
  },
  {
   "cell_type": "code",
   "execution_count": null,
   "metadata": {
    "collapsed": true
   },
   "outputs": [],
   "source": []
  }
 ],
 "metadata": {
  "kernelspec": {
   "display_name": "Python 2",
   "language": "python",
   "name": "python2"
  },
  "language_info": {
   "codemirror_mode": {
    "name": "ipython",
    "version": 2
   },
   "file_extension": ".py",
   "mimetype": "text/x-python",
   "name": "python",
   "nbconvert_exporter": "python",
   "pygments_lexer": "ipython2",
   "version": "2.7.6"
  }
 },
 "nbformat": 4,
 "nbformat_minor": 0
}
