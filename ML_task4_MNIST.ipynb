{
 "cells": [
  {
   "cell_type": "code",
   "execution_count": 44,
   "metadata": {
    "collapsed": false
   },
   "outputs": [],
   "source": [
    "import sys\n",
    "import os\n",
    "import time\n",
    "\n",
    "from sklearn.metrics import accuracy_score\n",
    "\n",
    "import numpy as np\n",
    "import theano\n",
    "import theano.tensor as T\n",
    "import pandas as pd\n",
    "\n",
    "from keras.models import Sequential\n",
    "from keras.layers.core import Dense, Dropout, Activation, Flatten\n",
    "from keras.layers.convolutional import Convolution2D,MaxPooling2D\n",
    "from keras.optimizers import SGD\n",
    "from keras.utils import np_utils"
   ]
  },
  {
   "cell_type": "code",
   "execution_count": 45,
   "metadata": {
    "collapsed": false
   },
   "outputs": [],
   "source": [
    "#data:\n",
    "train = pd.read_csv('./data/kaggle-mnist/train.csv')\n",
    "test = pd.read_csv('./data/kaggle-mnist/test.csv')"
   ]
  },
  {
   "cell_type": "code",
   "execution_count": 46,
   "metadata": {
    "collapsed": false
   },
   "outputs": [],
   "source": [
    "#for submission\n",
    "def submit(y_result,filename='./submission.csv'):\n",
    "    with open(filename, 'w') as writer:\n",
    "        writer.write('\"ImageId\",\"Label\"\\n')\n",
    "        count = 0\n",
    "        for p in y_result:\n",
    "            count += 1\n",
    "            writer.write(str(count) + ',\"' + str(p) + '\"\\n')"
   ]
  },
  {
   "cell_type": "code",
   "execution_count": 19,
   "metadata": {
    "collapsed": true
   },
   "outputs": [],
   "source": [
    "X_train, y_train = train.drop('label',axis=1).values.reshape(42000,1,28,28), train['label']\n",
    "X_test = test.values.reshape(len(test),1,28,28)"
   ]
  },
  {
   "cell_type": "code",
   "execution_count": 20,
   "metadata": {
    "collapsed": false
   },
   "outputs": [],
   "source": [
    "Y_train = np_utils.to_categorical(y_train, 10)\n",
    "#Y_test = np_utils.to_categorical(y_test, 10)"
   ]
  },
  {
   "cell_type": "code",
   "execution_count": 26,
   "metadata": {
    "collapsed": false
   },
   "outputs": [],
   "source": [
    "model = Sequential()\n",
    "\n",
    "model.add(Convolution2D(16, 5, 5, border_mode='full', input_shape=(1, 28, 28)))\n",
    "model.add(Activation('tanh'))\n",
    "model.add(Convolution2D(16, 3, 3))\n",
    "model.add(Activation('tanh'))\n",
    "model.add(MaxPooling2D(pool_size=(2, 2)))\n",
    "model.add(Dropout(0.25))\n",
    "\n",
    "model.add(Flatten())\n",
    "model.add(Dense(128))\n",
    "model.add(Activation('tanh'))\n",
    "model.add(Dropout(0.5))\n",
    "model.add(Dense(10))\n",
    "model.add(Activation('softmax'))\n",
    "\n",
    "model.compile(loss='categorical_crossentropy', optimizer='adadelta')"
   ]
  },
  {
   "cell_type": "code",
   "execution_count": null,
   "metadata": {
    "collapsed": false
   },
   "outputs": [
    {
     "name": "stdout",
     "output_type": "stream",
     "text": [
      "Epoch 1/50\n",
      "42000/42000 [==============================] - 16s - loss: 0.0043    \n",
      "Epoch 2/50\n",
      "42000/42000 [==============================] - 16s - loss: 0.0041    \n",
      "Epoch 3/50\n",
      "42000/42000 [==============================] - 16s - loss: 0.0031    \n",
      "Epoch 4/50\n",
      "42000/42000 [==============================] - 16s - loss: 0.0035    \n",
      "Epoch 5/50\n",
      "42000/42000 [==============================] - 16s - loss: 0.0036    \n",
      "Epoch 6/50\n",
      "13312/42000 [========>.....................] - ETA: 11s - loss: 0.0029"
     ]
    }
   ],
   "source": [
    "model.fit(X_train,Y_train,batch_size=512,nb_epoch=50)"
   ]
  },
  {
   "cell_type": "code",
   "execution_count": 41,
   "metadata": {
    "collapsed": false
   },
   "outputs": [
    {
     "name": "stdout",
     "output_type": "stream",
     "text": [
      "28000/28000 [==============================] - 2s     \n"
     ]
    }
   ],
   "source": [
    "submit(model.predict_classes(X_test))"
   ]
  },
  {
   "cell_type": "code",
   "execution_count": null,
   "metadata": {
    "collapsed": true
   },
   "outputs": [],
   "source": []
  }
 ],
 "metadata": {
  "kernelspec": {
   "display_name": "Python 2",
   "language": "python",
   "name": "python2"
  },
  "language_info": {
   "codemirror_mode": {
    "name": "ipython",
    "version": 2
   },
   "file_extension": ".py",
   "mimetype": "text/x-python",
   "name": "python",
   "nbconvert_exporter": "python",
   "pygments_lexer": "ipython2",
   "version": "2.7.6"
  }
 },
 "nbformat": 4,
 "nbformat_minor": 0
}
