{
 "cells": [
  {
   "cell_type": "code",
   "execution_count": 1,
   "metadata": {
    "collapsed": true
   },
   "outputs": [],
   "source": [
    "import pandas as pd\n",
    "import numpy as np\n",
    "\n",
    "from sklearn.svm import SVC\n",
    "from sklearn.decomposition import PCA\n",
    "from sklearn.utils import shuffle\n",
    "from sklearn.cross_validation import train_test_split\n",
    "from sklearn.metrics import accuracy_score"
   ]
  },
  {
   "cell_type": "code",
   "execution_count": 2,
   "metadata": {
    "collapsed": false
   },
   "outputs": [],
   "source": [
    "big_train = pd.read_csv('./data/train.csv')\n",
    "\n",
    "test = pd.read_csv('./data/test.csv')\n",
    "\n",
    "big_train = shuffle(big_train)\n",
    "\n",
    "train = big_train[:5000]\n",
    "\n",
    "X_train, X_test, y_train, y_test = train_test_split(train.drop('label',axis=1),\n",
    "                                                    train['label'],\n",
    "                                                    test_size=0.20, \n",
    "                                                    random_state=42)"
   ]
  },
  {
   "cell_type": "code",
   "execution_count": 3,
   "metadata": {
    "collapsed": true
   },
   "outputs": [],
   "source": [
    "X_train_all, y_train_all = big_train.drop('label',axis=1), big_train['label']"
   ]
  },
  {
   "cell_type": "code",
   "execution_count": 4,
   "metadata": {
    "collapsed": false
   },
   "outputs": [],
   "source": [
    "X_test_all = test"
   ]
  },
  {
   "cell_type": "code",
   "execution_count": 5,
   "metadata": {
    "collapsed": false
   },
   "outputs": [],
   "source": [
    "pca_transformer = PCA(n_components=int(0.85*28*28))\n",
    "X_train_pca = pca_transformer.fit_transform(X_train,y_train)\n",
    "X_test_pca = pca_transformer.transform(X_test)"
   ]
  },
  {
   "cell_type": "code",
   "execution_count": 8,
   "metadata": {
    "collapsed": false
   },
   "outputs": [
    {
     "data": {
      "text/plain": [
       "0.96099999999999997"
      ]
     },
     "execution_count": 8,
     "metadata": {},
     "output_type": "execute_result"
    }
   ],
   "source": [
    "#SVM with rbf kernel\n",
    "svm_rbf = SVC(kernel='rbf',C=100,gamma=0.0000008)\n",
    "svm_rbf.fit(X_train_pca,y_train)\n",
    "\n",
    "y_pred_rbf = svm_rbf.predict(X_test_pca)\n",
    "accuracy_score(y_test,y_pred_rbf)"
   ]
  },
  {
   "cell_type": "code",
   "execution_count": 6,
   "metadata": {
    "collapsed": false
   },
   "outputs": [
    {
     "data": {
      "text/plain": [
       "0.95799999999999996"
      ]
     },
     "execution_count": 6,
     "metadata": {},
     "output_type": "execute_result"
    }
   ],
   "source": [
    "#SVM with polynomial kernel\n",
    "svm_poly = SVC(kernel='poly')\n",
    "svm_poly.fit(X_train_pca,y_train)\n",
    "\n",
    "y_pred_poly = svm_poly.predict(X_test_pca)\n",
    "accuracy_score(y_test,y_pred_poly)"
   ]
  },
  {
   "cell_type": "code",
   "execution_count": 6,
   "metadata": {
    "collapsed": true
   },
   "outputs": [],
   "source": [
    "big_X_train, big_X_test, big_y_train, big_y_test = train_test_split(big_train.drop('label',axis=1),\n",
    "                                                    big_train['label'],\n",
    "                                                    test_size=0.20, \n",
    "                                                    random_state=42)\n",
    "\n",
    "pca_transformer = PCA(n_components=75)\n",
    "big_X_train = pca_transformer.fit_transform(big_X_train)\n",
    "big_X_test = pca_transformer.transform(big_X_test)"
   ]
  },
  {
   "cell_type": "code",
   "execution_count": 5,
   "metadata": {
    "collapsed": false
   },
   "outputs": [
    {
     "ename": "NameError",
     "evalue": "name 'big_X_train' is not defined",
     "output_type": "error",
     "traceback": [
      "\u001b[1;31m---------------------------------------------------------------------------\u001b[0m",
      "\u001b[1;31mNameError\u001b[0m                                 Traceback (most recent call last)",
      "\u001b[1;32m<ipython-input-5-0dba11f4c556>\u001b[0m in \u001b[0;36m<module>\u001b[1;34m()\u001b[0m\n\u001b[0;32m      2\u001b[0m \u001b[0msvm\u001b[0m \u001b[1;33m=\u001b[0m \u001b[0mSVC\u001b[0m\u001b[1;33m(\u001b[0m\u001b[0mkernel\u001b[0m\u001b[1;33m=\u001b[0m\u001b[1;34m'rbf'\u001b[0m\u001b[1;33m,\u001b[0m\u001b[0mC\u001b[0m\u001b[1;33m=\u001b[0m\u001b[1;36m100\u001b[0m\u001b[1;33m,\u001b[0m\u001b[0mgamma\u001b[0m\u001b[1;33m=\u001b[0m\u001b[1;36m0.0000008\u001b[0m\u001b[1;33m)\u001b[0m\u001b[1;33m\u001b[0m\u001b[0m\n\u001b[0;32m      3\u001b[0m \u001b[1;33m\u001b[0m\u001b[0m\n\u001b[1;32m----> 4\u001b[1;33m \u001b[0msvm\u001b[0m\u001b[1;33m.\u001b[0m\u001b[0mfit\u001b[0m\u001b[1;33m(\u001b[0m\u001b[0mbig_X_train\u001b[0m\u001b[1;33m,\u001b[0m\u001b[0mbig_y_train\u001b[0m\u001b[1;33m)\u001b[0m\u001b[1;33m\u001b[0m\u001b[0m\n\u001b[0m\u001b[0;32m      5\u001b[0m \u001b[1;33m\u001b[0m\u001b[0m\n\u001b[0;32m      6\u001b[0m \u001b[0mbig_y_pred_svm\u001b[0m \u001b[1;33m=\u001b[0m \u001b[0msvm\u001b[0m\u001b[1;33m.\u001b[0m\u001b[0mpredict\u001b[0m\u001b[1;33m(\u001b[0m\u001b[0mbig_X_test\u001b[0m\u001b[1;33m)\u001b[0m\u001b[1;33m\u001b[0m\u001b[0m\n",
      "\u001b[1;31mNameError\u001b[0m: name 'big_X_train' is not defined"
     ]
    }
   ],
   "source": [
    "#SVM on full data with 0.8/0.2 train/test parts\n",
    "svm = SVC(kernel='rbf',C=100,gamma=0.0000008)\n",
    "\n",
    "svm.fit(big_X_train,big_y_train)\n",
    "\n",
    "big_y_pred_svm = svm.predict(big_X_test)\n",
    "accuracy_score(big_y_test,big_y_pred_svm)"
   ]
  },
  {
   "cell_type": "code",
   "execution_count": 65,
   "metadata": {
    "collapsed": false
   },
   "outputs": [],
   "source": [
    "#SVM with rbf kernel for submission\n",
    "pca_transformer = PCA(n_components=75)\n",
    "X_train_all_pca = pca_transformer.fit_transform(X_train_all)\n",
    "X_test_all_pca = pca_transformer.transform(X_test_all)\n",
    "\n",
    "svm = SVC(kernel='rbf',C=100,gamma=0.0000008)\n",
    "\n",
    "svm.fit(X_train_all_pca,y_train_all)\n",
    "\n",
    "y_result = svm.predict(X_test_all_pca)\n",
    "\n",
    "#for submission\n",
    "with open('./data/submission.csv', 'w') as writer:\n",
    "    writer.write('\"ImageId\",\"Label\"\\n')\n",
    "    count = 0\n",
    "    for p in y_result:\n",
    "        count += 1\n",
    "        writer.write(str(count) + ',\"' + str(p) + '\"\\n')"
   ]
  }
 ],
 "metadata": {
  "kernelspec": {
   "display_name": "Python 2",
   "language": "python",
   "name": "python2"
  },
  "language_info": {
   "codemirror_mode": {
    "name": "ipython",
    "version": 2
   },
   "file_extension": ".py",
   "mimetype": "text/x-python",
   "name": "python",
   "nbconvert_exporter": "python",
   "pygments_lexer": "ipython2",
   "version": "2.7.6"
  }
 },
 "nbformat": 4,
 "nbformat_minor": 0
}
