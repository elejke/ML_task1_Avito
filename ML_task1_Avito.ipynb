{
 "cells": [
  {
   "cell_type": "code",
   "execution_count": 1,
   "metadata": {
    "collapsed": false
   },
   "outputs": [],
   "source": [
    "from sklearn.feature_extraction.text import CountVectorizer, TfidfVectorizer\n",
    "from sklearn.svm import LinearSVC\n",
    "from sklearn.linear_model import LogisticRegression\n",
    "from sklearn.cross_validation import train_test_split\n",
    "from sklearn.metrics import roc_auc_score\n",
    "from stop_words import get_stop_words\n",
    "\n",
    "import pandas as pd\n",
    "import numpy as np"
   ]
  },
  {
   "cell_type": "code",
   "execution_count": 2,
   "metadata": {
    "collapsed": false
   },
   "outputs": [],
   "source": [
    "russian_stop_words = get_stop_words('russian')"
   ]
  },
  {
   "cell_type": "code",
   "execution_count": 3,
   "metadata": {
    "collapsed": false
   },
   "outputs": [],
   "source": [
    "#data reading and spliting on test and train\n",
    "data = pd.read_csv('./text_BoW_task.csv', encoding='utf-8')\n",
    "\n",
    "X_train, X_test, y_train, y_test = train_test_split(data['text_stem'],\n",
    "                                                    data['is_blocked'], \n",
    "                                                    test_size=0.20, \n",
    "                                                    random_state=42)\n",
    "\n",
    "X_train = X_train.astype(unicode);X_test = X_test.astype(unicode)"
   ]
  },
  {
   "cell_type": "code",
   "execution_count": 4,
   "metadata": {
    "collapsed": false
   },
   "outputs": [],
   "source": [
    "#creating the bag of word:\n",
    "vectorizer = CountVectorizer(max_features = 9500,stop_words=russian_stop_words)\n",
    "train_data_features = vectorizer.fit_transform(X_train).toarray()\n",
    "test_data_features = vectorizer.transform(X_test).toarray()"
   ]
  },
  {
   "cell_type": "code",
   "execution_count": 5,
   "metadata": {
    "collapsed": true
   },
   "outputs": [],
   "source": [
    "#LogisticRegression training on vectorised features\n",
    "clf1 = LogisticRegression()\n",
    "clf1.fit(train_data_features, y_train)\n",
    "y_pred_1 = clf1.predict(test_data_features)"
   ]
  },
  {
   "cell_type": "code",
   "execution_count": 6,
   "metadata": {
    "collapsed": false
   },
   "outputs": [],
   "source": [
    "LogRegression_auc = roc_auc_score(y_test, y_pred_1)"
   ]
  },
  {
   "cell_type": "code",
   "execution_count": 7,
   "metadata": {
    "collapsed": true
   },
   "outputs": [],
   "source": [
    "#SVM training on vectorised features\n",
    "clf2 = LinearSVC()\n",
    "clf2.fit(train_data_features, y_train)\n",
    "y_pred_2 = clf2.predict(test_data_features)"
   ]
  },
  {
   "cell_type": "code",
   "execution_count": 8,
   "metadata": {
    "collapsed": false
   },
   "outputs": [],
   "source": [
    "SVM_auc = roc_auc_score(y_test, y_pred_2)"
   ]
  },
  {
   "cell_type": "code",
   "execution_count": 9,
   "metadata": {
    "collapsed": false
   },
   "outputs": [],
   "source": [
    "#creating the bag of word with TF-IDF:\n",
    "vectorizer_Tfidf = TfidfVectorizer(max_features = 9500,stop_words=russian_stop_words)\n",
    "train_data_features_tfidf = vectorizer_Tfidf.fit_transform(X_train).toarray()\n",
    "test_data_features_tfidf = vectorizer_Tfidf.transform(X_test).toarray()"
   ]
  },
  {
   "cell_type": "code",
   "execution_count": 11,
   "metadata": {
    "collapsed": true
   },
   "outputs": [],
   "source": [
    "#LogisticRegression training on vectorised features with TF-IDF transform\n",
    "clf1_tfidf = LogisticRegression()\n",
    "clf1_tfidf.fit(train_data_features_tfidf, y_train)\n",
    "y_pred_1_tfidf = clf1_tfidf.predict(test_data_features_tfidf)"
   ]
  },
  {
   "cell_type": "code",
   "execution_count": 12,
   "metadata": {
    "collapsed": false
   },
   "outputs": [],
   "source": [
    "LogRegression_tfidf_auc = roc_auc_score(y_test, y_pred_1_tfidf)"
   ]
  },
  {
   "cell_type": "code",
   "execution_count": 13,
   "metadata": {
    "collapsed": true
   },
   "outputs": [],
   "source": [
    "#SVM training on vectorised features with TF-IDF transform\n",
    "clf2_tfidf = LinearSVC()\n",
    "clf2_tfidf.fit(train_data_features_tfidf, y_train)\n",
    "y_pred_2_tfidf = clf2.predict(test_data_features_tfidf)"
   ]
  },
  {
   "cell_type": "code",
   "execution_count": 14,
   "metadata": {
    "collapsed": false
   },
   "outputs": [],
   "source": [
    "SVM_tfidf_auc = roc_auc_score(y_test, y_pred_2_tfidf)"
   ]
  },
  {
   "cell_type": "code",
   "execution_count": 15,
   "metadata": {
    "collapsed": false
   },
   "outputs": [
    {
     "name": "stdout",
     "output_type": "stream",
     "text": [
      "LogRegression_auc:  0.932659755419\n",
      "SVM_auc:  0.92142664833\n",
      "LogRegression_tfidf_auc:  0.932867164119\n",
      "SVM_tfidf_auc:  0.904097809172\n"
     ]
    }
   ],
   "source": [
    "print 'LogRegression_auc: ', LogRegression_auc\n",
    "print 'SVM_auc: ', SVM_auc\n",
    "print 'LogRegression_tfidf_auc: ', LogRegression_tfidf_auc\n",
    "print 'SVM_tfidf_auc: ', SVM_tfidf_auc"
   ]
  },
  {
   "cell_type": "code",
   "execution_count": null,
   "metadata": {
    "collapsed": true
   },
   "outputs": [],
   "source": []
  }
 ],
 "metadata": {
  "kernelspec": {
   "display_name": "Python 2",
   "language": "python",
   "name": "python2"
  },
  "language_info": {
   "codemirror_mode": {
    "name": "ipython",
    "version": 2
   },
   "file_extension": ".py",
   "mimetype": "text/x-python",
   "name": "python",
   "nbconvert_exporter": "python",
   "pygments_lexer": "ipython2",
   "version": "2.7.9"
  }
 },
 "nbformat": 4,
 "nbformat_minor": 0
}
