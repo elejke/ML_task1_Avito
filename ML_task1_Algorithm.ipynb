{
 "cells": [
  {
   "cell_type": "code",
   "execution_count": 108,
   "metadata": {
    "collapsed": true
   },
   "outputs": [],
   "source": [
    "%matplotlib inline  \n",
    "import numpy as np\n",
    "from numpy.random import rand"
   ]
  },
  {
   "cell_type": "code",
   "execution_count": 162,
   "metadata": {
    "collapsed": false
   },
   "outputs": [],
   "source": [
    "X = np.random.randn(5,5)\n",
    "theta = [1,2,3,4,5,8]\n",
    "y = [1,1,1,1,1]"
   ]
  },
  {
   "cell_type": "code",
   "execution_count": 191,
   "metadata": {
    "collapsed": false
   },
   "outputs": [],
   "source": [
    "#gradient decent\n",
    "\n",
    "#эвристика, улучшающая сходимость градиентного метода - нормализация данных\n",
    "def normalization(X):\n",
    "    return np.array([(X[:,i]-X[:,i].mean())/(X[:,i].std()) for i in range(np.shape(X)[1])])\n",
    "\n",
    "def sigmoid(X,theta):\n",
    "    return 1./(1.+np.exp(-(np.dot(X,theta))))\n",
    "\n",
    "\n",
    "def compute_cost(X,y,theta):\n",
    "    m = len(y)\n",
    "    newX = np.hstack([np.ones(m),X])\n",
    "    sigm = sigmoid(newX.dot(theta))\n",
    "    J = (1./m) * (-np.array(y).dot(np.log(sigm)) - np.array((np.ones(m) - y)).dot(np.log(np.ones(m)-sigm)))\n",
    "    grad = (1./m)*(sigm - y).dot(X)\n",
    "    return J, grad\n",
    "\n"
   ]
  },
  {
   "cell_type": "code",
   "execution_count": 192,
   "metadata": {
    "collapsed": false
   },
   "outputs": [
    {
     "data": {
      "text/plain": [
       "array([[ 1.41421356, -0.70710678, -0.70710678],\n",
       "       [-0.70710678,  1.41421356, -0.70710678],\n",
       "       [-0.70710678, -0.70710678,  1.41421356]])"
      ]
     },
     "execution_count": 192,
     "metadata": {},
     "output_type": "execute_result"
    }
   ],
   "source": [
    "normalization(X)"
   ]
  },
  {
   "cell_type": "code",
   "execution_count": null,
   "metadata": {
    "collapsed": true
   },
   "outputs": [],
   "source": []
  }
 ],
 "metadata": {
  "kernelspec": {
   "display_name": "Python 2",
   "language": "python",
   "name": "python2"
  },
  "language_info": {
   "codemirror_mode": {
    "name": "ipython",
    "version": 2
   },
   "file_extension": ".py",
   "mimetype": "text/x-python",
   "name": "python",
   "nbconvert_exporter": "python",
   "pygments_lexer": "ipython2",
   "version": "2.7.9"
  }
 },
 "nbformat": 4,
 "nbformat_minor": 0
}
