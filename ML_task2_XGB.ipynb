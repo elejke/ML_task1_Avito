{
 "cells": [
  {
   "cell_type": "code",
   "execution_count": 2,
   "metadata": {
    "collapsed": true
   },
   "outputs": [],
   "source": [
    "import pandas as pd\n",
    "import numpy as np\n",
    "\n",
    "from xgboost import XGBClassifier\n",
    "from sklearn.decomposition import PCA\n",
    "from sklearn.utils import shuffle\n",
    "from sklearn.cross_validation import train_test_split\n",
    "from sklearn.metrics import accuracy_score"
   ]
  },
  {
   "cell_type": "code",
   "execution_count": 3,
   "metadata": {
    "collapsed": false
   },
   "outputs": [],
   "source": [
    "#loading, shuffling, spliting data:\n",
    "big_train = pd.read_csv('./data/train.csv')\n",
    "\n",
    "test = pd.read_csv('./data/test.csv')\n",
    "\n",
    "big_train = shuffle(big_train)\n",
    "\n",
    "train = big_train[:5000]\n",
    "\n",
    "X_train, X_test, y_train, y_test = train_test_split(train.drop('label',axis=1),\n",
    "                                                    train['label'],\n",
    "                                                    test_size=0.20, \n",
    "                                                    random_state=42)\n",
    "\n",
    "X_train_all, y_train_all = train.drop('label',axis=1), train['label']\n",
    "\n",
    "X_test_all = test"
   ]
  },
  {
   "cell_type": "code",
   "execution_count": 3,
   "metadata": {
    "collapsed": true
   },
   "outputs": [],
   "source": [
    "#PCA\n",
    "pca_transformer = PCA(n_components=50)\n",
    "X_train_pca = pca_transformer.fit_transform(X_train)\n",
    "X_test_pca = pca_transformer.transform(X_test)"
   ]
  },
  {
   "cell_type": "code",
   "execution_count": 8,
   "metadata": {
    "collapsed": false
   },
   "outputs": [
    {
     "data": {
      "text/plain": [
       "0.93700000000000006"
      ]
     },
     "execution_count": 8,
     "metadata": {},
     "output_type": "execute_result"
    }
   ],
   "source": [
    "#XGB testing on 5000\n",
    "xgb = XGBClassifier(n_estimators=500)\n",
    "\n",
    "xgb.fit(X_train,y_train)\n",
    "\n",
    "y_pred_xgb = xgb.predict(X_test)\n",
    "accuracy_score(y_test,y_pred_xgb)"
   ]
  },
  {
   "cell_type": "code",
   "execution_count": 10,
   "metadata": {
    "collapsed": false
   },
   "outputs": [
    {
     "data": {
      "text/plain": [
       "0.92900000000000005"
      ]
     },
     "execution_count": 10,
     "metadata": {},
     "output_type": "execute_result"
    }
   ],
   "source": [
    "#XGB testing on 5000 with PCA\n",
    "xgb_pca = XGBClassifier(n_estimators=500)\n",
    "\n",
    "xgb_pca.fit(X_train_pca,y_train)\n",
    "\n",
    "y_pred_xgb_pca = xgb_pca.predict(X_test_pca)\n",
    "accuracy_score(y_test,y_pred_xgb_pca)"
   ]
  },
  {
   "cell_type": "code",
   "execution_count": null,
   "metadata": {
    "collapsed": false
   },
   "outputs": [],
   "source": []
  },
  {
   "cell_type": "code",
   "execution_count": null,
   "metadata": {
    "collapsed": true
   },
   "outputs": [],
   "source": []
  }
 ],
 "metadata": {
  "kernelspec": {
   "display_name": "Python 2",
   "language": "python",
   "name": "python2"
  },
  "language_info": {
   "codemirror_mode": {
    "name": "ipython",
    "version": 2
   },
   "file_extension": ".py",
   "mimetype": "text/x-python",
   "name": "python",
   "nbconvert_exporter": "python",
   "pygments_lexer": "ipython2",
   "version": "2.7.10"
  }
 },
 "nbformat": 4,
 "nbformat_minor": 0
}
